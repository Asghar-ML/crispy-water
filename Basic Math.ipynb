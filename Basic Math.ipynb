{
 "cells": [
  {
   "cell_type": "markdown",
   "metadata": {},
   "source": [
    "# Maths Basics"
   ]
  },
  {
   "cell_type": "markdown",
   "metadata": {},
   "source": [
    "## Vectors"
   ]
  },
  {
   "cell_type": "code",
   "execution_count": 3,
   "metadata": {},
   "outputs": [
    {
     "data": {
      "text/plain": [
       "[1, 2, 3, 4, 5]"
      ]
     },
     "execution_count": 3,
     "metadata": {},
     "output_type": "execute_result"
    }
   ],
   "source": [
    "## getting vectors\n",
    "\n",
    "x = [1, 2, 3, 4, 5]\n",
    "x"
   ]
  },
  {
   "cell_type": "code",
   "execution_count": 7,
   "metadata": {},
   "outputs": [
    {
     "name": "stdout",
     "output_type": "stream",
     "text": [
      "[1 2 3 4 5]\n"
     ]
    }
   ],
   "source": [
    "# importing numpy\n",
    "\n",
    "import numpy as np\n",
    "x = np.array([1, 2, 3, 4, 5])\n",
    "\n",
    "print(x)"
   ]
  },
  {
   "cell_type": "markdown",
   "metadata": {},
   "source": [
    "## Matrices"
   ]
  },
  {
   "cell_type": "code",
   "execution_count": 10,
   "metadata": {},
   "outputs": [
    {
     "name": "stdout",
     "output_type": "stream",
     "text": [
      "[[1 5 2]\n",
      " [4 7 4]\n",
      " [2 0 9]]\n",
      "(3, 3)\n"
     ]
    }
   ],
   "source": [
    "## getting matrices\n",
    "\n",
    "m = np.array([[1, 5, 2],\n",
    "              [4, 7, 4],\n",
    "              [2, 0, 9]])\n",
    "\n",
    "# view matrix\n",
    "print(m)\n",
    "\n",
    "# view dimensions\n",
    "print(m.shape)"
   ]
  },
  {
   "cell_type": "markdown",
   "metadata": {},
   "source": [
    "## Matrix Transpose"
   ]
  },
  {
   "cell_type": "code",
   "execution_count": 11,
   "metadata": {},
   "outputs": [
    {
     "name": "stdout",
     "output_type": "stream",
     "text": [
      "Matrix Transpose:\n",
      " [[1 4 2]\n",
      " [5 7 0]\n",
      " [2 4 9]] \n",
      "\n"
     ]
    }
   ],
   "source": [
    "# matrix transpose\n",
    "\n",
    "print('Matrix Transpose:\\n', m.transpose(), '\\n')"
   ]
  },
  {
   "cell_type": "markdown",
   "metadata": {},
   "source": [
    "## Matrix Determinant"
   ]
  },
  {
   "cell_type": "code",
   "execution_count": 12,
   "metadata": {},
   "outputs": [
    {
     "name": "stdout",
     "output_type": "stream",
     "text": [
      "Matrix Determinant: -105.00000000000006 \n",
      "\n"
     ]
    }
   ],
   "source": [
    "# matrix determinant\n",
    "\n",
    "print ('Matrix Determinant:', np.linalg.det(m), '\\n')"
   ]
  },
  {
   "cell_type": "markdown",
   "metadata": {},
   "source": [
    "## Matrix Inverse"
   ]
  },
  {
   "cell_type": "code",
   "execution_count": 13,
   "metadata": {},
   "outputs": [
    {
     "name": "stdout",
     "output_type": "stream",
     "text": [
      "Matrix inverse:\n",
      " [[-0.6         0.42857143 -0.05714286]\n",
      " [ 0.26666667 -0.04761905 -0.03809524]\n",
      " [ 0.13333333 -0.0952381   0.12380952]] \n",
      "\n"
     ]
    }
   ],
   "source": [
    "# matrix inverse\n",
    "\n",
    "m_inv = np.linalg.inv(m)\n",
    "print ('Matrix inverse:\\n', m_inv, '\\n')"
   ]
  },
  {
   "cell_type": "markdown",
   "metadata": {},
   "source": [
    "## Identity Matrix"
   ]
  },
  {
   "cell_type": "raw",
   "metadata": {},
   "source": [
    "It is the result of matrix x matrix_inverse"
   ]
  },
  {
   "cell_type": "code",
   "execution_count": 15,
   "metadata": {},
   "outputs": [
    {
     "name": "stdout",
     "output_type": "stream",
     "text": [
      "Product of matrix and its inverse:\n",
      " [[1. 0. 0.]\n",
      " [0. 1. 0.]\n",
      " [0. 0. 1.]]\n"
     ]
    }
   ],
   "source": [
    "# identity matrix \n",
    "\n",
    "iden_m =  np.dot(m, m_inv)\n",
    "iden_m = np.round(np.abs(iden_m), 0)\n",
    "print ('Product of matrix and its inverse:\\n', iden_m)"
   ]
  },
  {
   "cell_type": "markdown",
   "metadata": {},
   "source": [
    "## Descriptive Statistics"
   ]
  },
  {
   "cell_type": "raw",
   "metadata": {},
   "source": [
    "scipy is used for higher mathematical functions along with numpy"
   ]
  },
  {
   "cell_type": "code",
   "execution_count": 14,
   "metadata": {},
   "outputs": [
    {
     "name": "stdout",
     "output_type": "stream",
     "text": [
      "Data:  [ 3 19  3 11 17  4 11  2  7 17  2  5  5  2 13]\n"
     ]
    }
   ],
   "source": [
    "# descriptive statistics\n",
    "import scipy as stats\n",
    "import numpy as np\n",
    "from scipy.stats import distributions\n",
    "\n",
    "# get data\n",
    "nums = np.random.randint(1,20, size=(1,15))[0]\n",
    "print('Data: ', nums)\n"
   ]
  },
  {
   "cell_type": "code",
   "execution_count": 15,
   "metadata": {},
   "outputs": [
    {
     "name": "stdout",
     "output_type": "stream",
     "text": [
      "Mean: 8.066666666666666\n",
      "Median: 5.0\n",
      "Mode: ModeResult(mode=array([2]), count=array([3]))\n",
      "Standard Deviation: 5.88179866669674\n",
      "Variance: 34.59555555555555\n",
      "Skew: 0.6051935447232574\n",
      "Kurtosis: -1.1283924042677462\n"
     ]
    }
   ],
   "source": [
    "# get descriptive stats\n",
    "print ('Mean:', sp.mean(nums))\n",
    "print ('Median:', sp.median(nums))\n",
    "print ('Mode:', sp.stats.mode(nums))\n",
    "print ('Standard Deviation:', sp.std(nums))\n",
    "print ('Variance:', sp.var(nums))\n",
    "print ('Skew:', sp.stats.skew(nums))\n",
    "print ('Kurtosis:', sp.stats.kurtosis(nums))"
   ]
  }
 ],
 "metadata": {
  "kernelspec": {
   "display_name": "Python 3",
   "language": "python",
   "name": "python3"
  },
  "language_info": {
   "codemirror_mode": {
    "name": "ipython",
    "version": 3
   },
   "file_extension": ".py",
   "mimetype": "text/x-python",
   "name": "python",
   "nbconvert_exporter": "python",
   "pygments_lexer": "ipython3",
   "version": "3.7.3"
  }
 },
 "nbformat": 4,
 "nbformat_minor": 2
}
